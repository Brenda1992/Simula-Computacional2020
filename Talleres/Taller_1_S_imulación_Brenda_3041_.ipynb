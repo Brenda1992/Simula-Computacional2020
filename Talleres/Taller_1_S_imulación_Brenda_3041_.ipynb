{
  "nbformat": 4,
  "nbformat_minor": 0,
  "metadata": {
    "colab": {
      "name": "Taller_1_S imulación_Brenda_3041 .ipynb",
      "provenance": [],
      "collapsed_sections": []
    },
    "kernelspec": {
      "name": "python3",
      "display_name": "Python 3"
    }
  },
  "cells": [
    {
      "cell_type": "markdown",
      "metadata": {
        "id": "Rhnd7gir-jz-",
        "colab_type": "text"
      },
      "source": [
        "# **Taller 1 - Simulación Computacional 2020-I**\n",
        "\n",
        "Fecha de entrega: 7 de Septiembre de 2020"
      ]
    },
    {
      "cell_type": "markdown",
      "metadata": {
        "id": "eae9HxiDQG8H",
        "colab_type": "text"
      },
      "source": [
        "## 1.\n",
        "Los siguientes datos muestran los tiempos de llegada y los tiempos de servicio que requerirá cada cliente, para los primeros 13 clientes en un sistema de servidor único. A su llegada, un cliente ingresa al servicio si el servidor está libre o se une a la línea de espera. Cuando el servidor completa el trabajo en un cliente, el siguiente en la fila (es decir, el que ha estado esperando por más tiempo) entra en servicio.\n",
        "\n",
        "\n",
        "| Tiempos de llegada  | 12 | 31 | 63 | 95 | 99 | 154 | 198 | 221 | 304 | 346 | 411 | 455 | 537|\n",
        "----------------------| |  |  |  |  |   |   |   |   |   |   |   |  |\n",
        "| Tiempos de servicio | 40 | 32 | 55 | 48 | 18 |  50 |  47 |  18 |  28 |  54 |  40 |  72 |  12|\n",
        "\n",
        "a) Determine los tiempos de salida de estos 13 clientes.<br>\n",
        "b) Repetir a) cuando hay dos servidores y un cliente puede ser atendido por cualquiera.<br>\n",
        "c) Repetir a) bajo el nuevo supuesto que cuando el servidor termina un servicio, el siguiente cliente en entrar al servidor es aquel quien ha estado esperando el menor tiempo."
      ]
    },
    {
      "cell_type": "code",
      "metadata": {
        "id": "PQvoAkyMfeJt",
        "colab_type": "code",
        "colab": {}
      },
      "source": [
        "T_lleg = [12,31,63,95,99,154,198,221,304,346,411,455,537] \n",
        "T_Ser = [40,32,55,48,18,50,47,18,28,54,40,72,12] \n",
        "t_sal_A = [] #Punto a\n",
        "t_sal_B = [] #Punto b\n",
        "t_sal_C = [0,0,0,0,0,0,0,0,0,0,0,0,0] #Punto c"
      ],
      "execution_count": 224,
      "outputs": []
    },
    {
      "cell_type": "code",
      "metadata": {
        "id": "5z81DhZx5idQ",
        "colab_type": "code",
        "colab": {}
      },
      "source": [
        "#Punto A\n",
        "a=0;\n",
        "for i in range(0, len(T_lleg)):\n",
        "  t = T_lleg[i]\n",
        "  if i > 0:\n",
        "    if t_sal_A[i-1]>T_lleg[i]:\n",
        "      t=t_sal_A[i-1]\n",
        "  a=t+T_Ser[i] \n",
        "  t_sal_A.append(a)\n",
        "print(\"________________________________\")\n",
        "print(\"i\\tT_lleg\\tT_Ser\\tT_sal\")\n",
        "print(\"________________________________\")\n",
        "for i in range(0,13):\n",
        "   print( i+1,\"\\t\",T_lleg[i],\"\\t\",T_Ser[i],\"\\t\",t_sal_A[i], sep=' ', end='\\n')\n",
        "\n"
      ],
      "execution_count": null,
      "outputs": []
    },
    {
      "cell_type": "code",
      "metadata": {
        "id": "PXCHGK5p0Eie",
        "colab_type": "code",
        "colab": {}
      },
      "source": [
        "#Punto B \n",
        "b=0\n",
        "for i in range(0,len(T_lleg)):\n",
        "  t=T_lleg[i]\n",
        "  if i>1:\n",
        "    if t_sal_B[i-1]>T_lleg[i] and t_sal_B[i-2]>T_lleg[i]:\n",
        "      if t_sal_B[i-1]<t_sal_B[i-2]:\n",
        "        t=t_sal_B[i-1]\n",
        "      else:\n",
        "        t=t_sal_B[i-2]\n",
        " \n",
        "  b=t+T_Ser[i] \n",
        "  t_sal_B.append(b)\n",
        "print(\"_______________________________\")\n",
        "print(\"i\\tT_lleg\\tT_Ser\\tT_sal\")\n",
        "print(\"_______________________________\")\n",
        "for i in range(0,13):\n",
        "   print( i+1,\"\\t\",T_lleg[i],\"\\t\",T_Ser[i],\"\\t\",t_sal_B[i], sep=' ', end='\\n')\n",
        "\n"
      ],
      "execution_count": null,
      "outputs": []
    },
    {
      "cell_type": "code",
      "metadata": {
        "id": "BL7KynUQ463q",
        "colab_type": "code",
        "colab": {}
      },
      "source": [
        "# Punto C\n",
        "usuario=0\n",
        "t_sal_C[0]=T_lleg[usuario]+T_Ser[usuario]\n",
        "cont=0\n",
        "c=-1\n",
        "while cont<len(T_lleg)-1:\n",
        "  for j in range(len(t_sal_C)-1,0,-1):\n",
        "    if (t_sal_C[usuario]>T_lleg[j] and t_sal_C[j]==0):\n",
        "      t_sal_C[j]=t_sal_C[usuario]+T_Ser[j]\n",
        "      usuario = j\n",
        "      cont=cont+1\n",
        "      c=-1\n",
        "      break\n",
        "  if c>cont:\n",
        "    for j in range(0,len(T_lleg)):\n",
        "      if t_sal_C[j]==0:\n",
        "         t_sal_C[j]=T_lleg[j]+T_Ser[j]  \n",
        "         usuario = j\n",
        "         cont=cont+1\n",
        "         c=-1\n",
        "  c=c+1\n",
        "print(\"_______________________________\")\n",
        "print(\"i\\tT_lleg\\tT_Ser\\tT_sal\")\n",
        "print(\"_______________________________\")\n",
        "for i in range(0,13):\n",
        "   print( i+1,\"\\t\",T_lleg[i],\"\\t\",T_Ser[i],\"\\t\",t_sal_C[i], sep=' ', end='\\n')"
      ],
      "execution_count": null,
      "outputs": []
    },
    {
      "cell_type": "markdown",
      "metadata": {
        "id": "cpUpE8lokBBR",
        "colab_type": "text"
      },
      "source": [
        "## 2.\n",
        "Implementar el método de cuadrados medios (Mid-Square) para cualquier numero de cifras."
      ]
    },
    {
      "cell_type": "code",
      "metadata": {
        "id": "sevTg0Ip9TzF",
        "colab_type": "code",
        "colab": {}
      },
      "source": [
        "def digits_of_number(value):\n",
        "    val = int(value) #lanza excepción si no es un entero.\n",
        "    return len(str(val))\n",
        "\n",
        "def add_left_zeros(value, size):\n",
        "    \n",
        "    val = int(value) #lanza excepción si no es un entero.\n",
        "    val_str = str(val)\n",
        "    \n",
        "    if(len(val_str) > size):\n",
        "        raise Exception(\"La cantidad de digitos es mayor a la necesaria.\")\n",
        "    elif(len(val_str) == size):\n",
        "        return val_str\n",
        "    else:\n",
        "        requested_zeros = size - len(val_str)\n",
        "        zeros_string = \"\"\n",
        "        for x in range(requested_zeros):\n",
        "            zeros_string += \"0\"\n",
        "            \n",
        "        return zeros_string + val_str\n",
        "    \n",
        "    \n",
        "def take_the_middle(value, size):\n",
        "    \n",
        "    padding = int(size / 2)\n",
        "    return value[padding: - padding]\n",
        "\n",
        "\n",
        "def transform_to_decimals(value):\n",
        "    new_value = \"0.\" + value\n",
        "    return float(new_value)"
      ],
      "execution_count": 199,
      "outputs": []
    },
    {
      "cell_type": "code",
      "metadata": {
        "id": "qpqUn3PEDODf",
        "colab_type": "code",
        "colab": {}
      },
      "source": [
        "x0 = int (input(\"Digite el valor de X_0: \"))\n",
        "limit = int (input(\"¿Cuántos valores quiere generar? \"))\n",
        "n = 2\n",
        "\n",
        "if (digits_of_number(x0) == 2 * n):\n",
        "    xn = x0\n",
        "    for i in range(limit):\n",
        "        xn = int(xn)\n",
        "        xn_2 = xn ** 2\n",
        "        xn_2_str = str(xn_2)\n",
        "\n",
        "        if (digits_of_number(xn_2) != 4 * n):\n",
        "            xn_2_str = add_left_zeros(xn_2, 4 * n)\n",
        "\n",
        "        xn = take_the_middle(xn_2_str, 2 * n)\n",
        "        un = transform_to_decimals(xn)\n",
        "        \n",
        "        message = \"u_{0} = {1}\".format(i + 1, un)\n",
        "        print(message)\n",
        "else:\n",
        "    print(\"La cantidad de cifras de X_0 es diferente a 2*n\")"
      ],
      "execution_count": null,
      "outputs": []
    },
    {
      "cell_type": "markdown",
      "metadata": {
        "id": "aRS-Mj1pcjCF",
        "colab_type": "text"
      },
      "source": [
        "## 3.\n",
        "Si $x_0=5$ y\n",
        "$$ x_n = 3x_{n-1} \\mod 150 $$\n",
        "\n",
        "encuentre $x_1,...,x_{10}$"
      ]
    },
    {
      "cell_type": "code",
      "metadata": {
        "id": "eMRkbSDhfdcZ",
        "colab_type": "code",
        "colab": {}
      },
      "source": [
        "x0 = 5\n",
        "a = 3\n",
        "m = 150\n",
        "rango = 10\n",
        "xn = x0\n",
        "\n",
        "for i in range(rango):\n",
        "  xn_1 = ( a * xn  ) % m\n",
        "  xn = xn_1\n",
        "  mostrar = \"x{0} = {1}\".format(i + 1, xn_1)\n",
        "  print(mostrar)\n",
        "  "
      ],
      "execution_count": null,
      "outputs": []
    },
    {
      "cell_type": "markdown",
      "metadata": {
        "id": "ycKN0yXRd0wD",
        "colab_type": "text"
      },
      "source": [
        "### 4.\n",
        "Si $ x_0=3 $ y\n",
        "$$ x_n = (5x_{n-1}+7) \\mod 200 $$\n",
        "\n",
        "encuentre $x_1,...,x_{10}$"
      ]
    },
    {
      "cell_type": "code",
      "metadata": {
        "id": "IQSVgbpifc9T",
        "colab_type": "code",
        "colab": {}
      },
      "source": [
        "x0 = 3\n",
        "a = 5\n",
        "c = 7\n",
        "m = 200\n",
        "rango = 10\n",
        "xn = x0\n",
        "for i in range(rango):\n",
        "  xn_1 = ( a * xn + c ) % m \n",
        "  xn = xn_1\n",
        "  mostrar = \"x{0} = {1}\".format(i + 1, xn_1)\n",
        "  print(mostrar)\n"
      ],
      "execution_count": null,
      "outputs": []
    },
    {
      "cell_type": "markdown",
      "metadata": {
        "id": "R4qXgEoJG_Uv",
        "colab_type": "text"
      },
      "source": [
        "## 5.\n",
        "Si $x_0=137$ y\n",
        "$$x_n = (15x_{n-1}+3) \\mod 21$$\n",
        "\n",
        "**a)** encuentre $x_1,...,x_{100}$"
      ]
    },
    {
      "cell_type": "code",
      "metadata": {
        "id": "hgXiAOH3bo7f",
        "colab_type": "code",
        "colab": {}
      },
      "source": [
        "x0 = 137\n",
        "a = 15\n",
        "c = 3\n",
        "m = 21\n",
        "rango =100\n",
        "xn = x0\n",
        "\n",
        "ciclo = []\n",
        "cont=0\n",
        "\n",
        "for i in range(rango):\n",
        "    xn_1 = ( a * xn + c ) % m\n",
        "    #pseudo = xn_1 / m\n",
        "    xn = xn_1 \n",
        "    impr = \"x{0} = {1}\".format(i + 1, xn_1)\n",
        "    print(impr)\n",
        "    ciclo.append(xn_1)  \n",
        "    \n"
      ],
      "execution_count": null,
      "outputs": []
    },
    {
      "cell_type": "markdown",
      "metadata": {
        "id": "cvNyzsN9-gqe",
        "colab_type": "text"
      },
      "source": [
        "**b)** el tamaño del ciclo (si lo tiene)"
      ]
    },
    {
      "cell_type": "code",
      "metadata": {
        "id": "vTeBbd5YHLhe",
        "colab_type": "code",
        "colab": {}
      },
      "source": [
        "aux= ciclo[0] \n",
        "for j in range(1,len(ciclo)):\n",
        "  if (aux==ciclo[j]):\n",
        "      tem= j\n",
        "      break\n",
        "for j in range (0, tem):\n",
        "  if (ciclo[j]== ciclo[tem+j]):\n",
        "    cont=cont+1\n",
        "if (tem==cont):\n",
        "  print(\"El ciclo es de: \",tem)"
      ],
      "execution_count": null,
      "outputs": []
    },
    {
      "cell_type": "markdown",
      "metadata": {
        "id": "zdWnWWHhsl0f",
        "colab_type": "text"
      },
      "source": [
        "## 6.\n",
        "Si $ x_0=7 $ y\n",
        "$$ x_n = (5x_{n-1}+3) \\mod 33$$\n",
        "\n",
        "**a)** encuentre $u_1,...,u_{100}$"
      ]
    },
    {
      "cell_type": "code",
      "metadata": {
        "id": "UE2d7o_2tCMV",
        "colab_type": "code",
        "colab": {}
      },
      "source": [
        "x0 = 7 \n",
        "a =  5 \n",
        "c =  3 \n",
        "m =  33 \n",
        "rango =100  \n",
        "xn = x0\n",
        "cicl=[]\n",
        "memoria=[]\n",
        "cont=0\n",
        "for i in range(rango):\n",
        "    xn_1 = ( a * xn + c ) % m\n",
        "    xn = xn_1\n",
        "    U_n = xn_1 / m\n",
        "    impri = \"u_{0} = {1}\".format(i + 1, U_n)\n",
        "    print(impri)\n",
        "    cicl.append(U_n)"
      ],
      "execution_count": null,
      "outputs": []
    },
    {
      "cell_type": "markdown",
      "metadata": {
        "id": "RlNYVdyGtCm5",
        "colab_type": "text"
      },
      "source": [
        "**b)** el tamaño del ciclo (si lo tiene)"
      ]
    },
    {
      "cell_type": "code",
      "metadata": {
        "id": "iAdmuHAAt-qb",
        "colab_type": "code",
        "colab": {}
      },
      "source": [
        "aux= cicl[0] \n",
        "for j in range(1,len(cicl)):\n",
        "  if (aux==cicl[j]):\n",
        "      tem= j\n",
        "      break\n",
        "\n",
        "for j in range (0, tem):\n",
        "    if (cicl[j]== cicl[tem+j]):\n",
        "      cont=cont+1\n",
        "if (tem==cont):\n",
        "    print(\"El ciclo es de:\", tem)\n",
        "\n",
        "if (cicl[j]==i):\n",
        "  print(\"no existe el ciclo\")\n"
      ],
      "execution_count": null,
      "outputs": []
    },
    {
      "cell_type": "markdown",
      "metadata": {
        "id": "3PRnEgWTt_Jg",
        "colab_type": "text"
      },
      "source": [
        "## 7.\n",
        "Si $ x_0=123 $ y\n",
        "$$ x_n = (17x_{n-1}+3) \\mod 16 $$\n",
        "\n",
        "**a)** encuentre $u_1,...,u_{100}$"
      ]
    },
    {
      "cell_type": "code",
      "metadata": {
        "id": "7WiQHBIKuVrO",
        "colab_type": "code",
        "colab": {}
      },
      "source": [
        "x0 = 123\n",
        "a = 17\n",
        "c = 3\n",
        "m = 16\n",
        "rango = 100\n",
        "xn = x0\n",
        "conta=0\n",
        "cic=[]\n",
        "\n",
        "for i in range(rango):\n",
        "    xn_1 = ( a * xn + c ) % m\n",
        "    U_n = xn_1 / m\n",
        "    xn = xn_1\n",
        "    mostrar = \"u_{0} = {1}\".format(i + 1, U_n)\n",
        "    print(mostrar)\n",
        "    cic.append(U_n)"
      ],
      "execution_count": null,
      "outputs": []
    },
    {
      "cell_type": "markdown",
      "metadata": {
        "id": "aK_uyM2nuWGe",
        "colab_type": "text"
      },
      "source": [
        "**b)** el tamaño del ciclo (si lo tiene)"
      ]
    },
    {
      "cell_type": "code",
      "metadata": {
        "id": "aq2NrdxduW3O",
        "colab_type": "code",
        "colab": {}
      },
      "source": [
        "aux= cic[0]\n",
        "\n",
        "for j in range (1, len(cic)):\n",
        "  if (aux==cic[j]):\n",
        "    b=j\n",
        "    break\n",
        "for j in range (0, b):\n",
        "  if (cic[j]==cic[b+j]):\n",
        "    conta= conta+1\n",
        "if (b==conta):\n",
        "  print(\"El ciclo es de :\" , b)\n",
        "\n"
      ],
      "execution_count": null,
      "outputs": []
    },
    {
      "cell_type": "markdown",
      "metadata": {
        "id": "1KkIOtVzHL_w",
        "colab_type": "text"
      },
      "source": [
        "## 8.\n",
        "Dados los siguientes valores de la distribución de probabilidad discreta de la variable aleatoria $X$ de un dado de 12 lados: $X = {1,2,3,4,5,6,7,8,9,10,11,12}$, $p(X) = {0.06,0.05,0.05,0.04,0.02,0.02,0.05,0.07,0.2,0.25,0.1,0.09}$, ¿Qué valores retornaría el generador de variables aleatorias por el método de la inversión si los números aleatorios generados son: $U = {0.6996, 0.0318, 0.6344, 0.1708, 0.6865, 0.1573, 0.9454, 0.8211, 0.9102, 0.2579}$?"
      ]
    },
    {
      "cell_type": "code",
      "metadata": {
        "id": "bhEDWJ38rXGc",
        "colab_type": "code",
        "colab": {}
      },
      "source": [
        "def dis_Ac(px):\n",
        "    cont = 0\n",
        "    pX_Acu=[]\n",
        "    for cont in range(len(px)):\n",
        "        if cont == 0:\n",
        "            pX_Acu.append(px[cont])\n",
        "        else:\n",
        "            pX_Acu.append(px[cont] + pX_Acu[cont - 1])\n",
        "    return pX_Acu\n",
        "\n"
      ],
      "execution_count": 195,
      "outputs": []
    },
    {
      "cell_type": "code",
      "metadata": {
        "id": "gmT1kThr2e2n",
        "colab_type": "code",
        "colab": {}
      },
      "source": [
        "def inversa():\n",
        "    x=[1,2,3,4,5,6,7,8,9,10,11,12]\n",
        "    px=[0.06,0.05,0.05,0.04,0.2,0.02,0.05,0.07,0.2,0.25,0.1,0.09]\n",
        "    num_A = [0.6996,0.0318,0.6344,0.1708,0.6865,0.1573,0.9454,0.8211,0.9102,0.2579]\n",
        "    aleatorias = []\n",
        "    pX_Acu=dis_Ac(px)\n",
        "    cont = i= 0\n",
        "    \n",
        "    for cont in range(len(num_A)):\n",
        "        for i in range(len(px)):\n",
        "            if num_A[cont] < pX_Acu[i]:\n",
        "                aleatorias.append(x[i])\n",
        "                break    \n",
        "    cont = 0\n",
        "    print (\"_____________________________\")\n",
        "    print (\"n\\t Ui\\t xi\")\n",
        "    print (\"_____________________________\")\n",
        "    for cont in range(len(num_A)):\n",
        "        print(\"%d\\t %.4f\\t %d\"%(cont+1,num_A[cont],aleatorias[cont]))\n",
        "\n",
        "    print (\"Los valores son: \",aleatorias )\n",
        "inversa()"
      ],
      "execution_count": null,
      "outputs": []
    },
    {
      "cell_type": "markdown",
      "metadata": {
        "id": "Y4Ct4DYjrwZh",
        "colab_type": "text"
      },
      "source": [
        "## 9.\n",
        "Implememente la técnica de aceptación y rechazo para la generación de variables aleatorias.\n",
        "\n",
        "**a)** Use la técnica de aceptación y rechazo implementada para la generación de valores aleatorios de la distribución de probabilidad discreta de la suma de la cara de dos dados.<br>\n",
        "**b)** Compare con el método de la transformada inversa generando 50000 valores aleatorios con la misma distribución de probabilidad discreta midiendo el tiempo que toma por cada método generar la misma cantidad de valores aleatorios."
      ]
    },
    {
      "cell_type": "code",
      "metadata": {
        "id": "6Jd6C6Y9c_RM",
        "colab_type": "code",
        "colab": {}
      },
      "source": [
        ""
      ],
      "execution_count": 178,
      "outputs": []
    },
    {
      "cell_type": "markdown",
      "metadata": {
        "id": "s_d8nqQP6Y7y",
        "colab_type": "text"
      },
      "source": [
        "## 10.\n",
        "Implemente el ejemplo de simulación Ad Hoc de clientes atendidos por un cajero de un banco del Taller 0 generando las variables aleatorias discretas tanto del número de minutos entre las llegadas de un cliente y otro al banco ($X$), así como del numero de minutos que le toma al cajero atender un cliente ($Y$). <br>\n",
        "$X$ es una distribución de Poisson con $\\lambda = 5$<br>\n",
        "$Y$ es una distribución Binomial con $n=20$ y $p=0.4$.<br>\n",
        "Calcular las respectivas medidas de desempeño."
      ]
    },
    {
      "cell_type": "code",
      "metadata": {
        "id": "zUbhD7zu-kV9",
        "colab_type": "code",
        "colab": {}
      },
      "source": [
        ""
      ],
      "execution_count": null,
      "outputs": []
    }
  ]
}